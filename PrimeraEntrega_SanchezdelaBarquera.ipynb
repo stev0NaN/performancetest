{
  "nbformat": 4,
  "nbformat_minor": 0,
  "metadata": {
    "colab": {
      "provenance": [],
      "collapsed_sections": [
        "29GhFGf9HXBx",
        "8TSdvy43IDFo"
      ],
      "authorship_tag": "ABX9TyMe/kN2UKDL6jHc1SxxP8Lm",
      "include_colab_link": true
    },
    "kernelspec": {
      "name": "python3",
      "display_name": "Python 3"
    },
    "language_info": {
      "name": "python"
    }
  },
  "cells": [
    {
      "cell_type": "markdown",
      "metadata": {
        "id": "view-in-github",
        "colab_type": "text"
      },
      "source": [
        "<a href=\"https://colab.research.google.com/github/stev0NaN/performancetest/blob/main/PrimeraEntrega_SanchezdelaBarquera.ipynb\" target=\"_parent\"><img src=\"https://colab.research.google.com/assets/colab-badge.svg\" alt=\"Open In Colab\"/></a>"
      ]
    },
    {
      "cell_type": "markdown",
      "source": [
        "#**Abstract**\n",
        "\n",
        "\n",
        "\n"
      ],
      "metadata": {
        "id": "_2-Ozehm34fr"
      }
    },
    {
      "cell_type": "markdown",
      "source": [
        "El análisis de datos proporcionados por un GPS es una herramienta valiosa para mejorar el rendimiento de un equipo de fútbol soccer.\n",
        "\n",
        "Este tipo de análisis permite identificar patrones de movimiento, niveles de esfuerzo y otros datos clave que pueden ser utilizados para optimizar el entrenamiento y la estrategia del equipo.\n",
        "\n",
        "La audiencia para esta presentación puede incluir entrenadores, jugadores y otros miembros del equipo, así como analistas deportivos."
      ],
      "metadata": {
        "id": "46vm0G5LL-Fx"
      }
    },
    {
      "cell_type": "markdown",
      "source": [
        "#**Definición de Objetivo**"
      ],
      "metadata": {
        "id": "NWPBKf_AMF7X"
      }
    },
    {
      "cell_type": "markdown",
      "source": [
        "La motivación para presentar este análisis de datos es mejorar el rendimiento del equipo y lograr resultados exitosos en el campo de juego."
      ],
      "metadata": {
        "id": "JZcoEmKRMYhD"
      }
    },
    {
      "cell_type": "markdown",
      "source": [
        "#**Contexto Empresarial**"
      ],
      "metadata": {
        "id": "oZJ8a5mDMm7Q"
      }
    },
    {
      "cell_type": "markdown",
      "source": [
        "El equipo de primera división llamado WIMU TEAM ha decidido tomar en cuenta los datos GPS que sus jugadores del primer equipo tienen durante la semana de prueba de la nueva herramienta para gestionar los entrenamientos y sacar el máximo provecho a cada uno de ellos."
      ],
      "metadata": {
        "id": "oih6Rkk_Mz0E"
      }
    },
    {
      "cell_type": "markdown",
      "source": [
        "#**Problema Comercial**"
      ],
      "metadata": {
        "id": "XQeqC111NFCv"
      }
    },
    {
      "cell_type": "markdown",
      "source": [
        "Su tarea es interpretar los datos que generan los GPS y generar visualizaciones que respondan las preguntas específicas que tiene el staff de entrenadores, las cuales vemos a continuación:\n",
        "\n",
        "1.¿Qué tipo de entrenamiento es más popular?\n",
        "\n",
        "2.¿Qué días de la semana es cuando más carga de trabajo en metros recorridos hay?\n",
        "\n",
        "3.¿Cuáles son los jugadores con la mayor distancia recorrida?\n",
        "\n",
        "4.¿Quiénes son los jugadores más veloces? y si existe alguna correlación respecto a su posición en el terreno de juego."
      ],
      "metadata": {
        "id": "DaKTD0faNYoi"
      }
    },
    {
      "cell_type": "markdown",
      "source": [
        "#**Contexto Analítico**"
      ],
      "metadata": {
        "id": "E4T6YxNaNopc"
      }
    },
    {
      "cell_type": "markdown",
      "source": [
        "El conjunto de datos \"week_sessions\" es un archivo en formato CSV que contiene información sobre las sesiones de entrenamiento de los usuarios de una plataforma de monitoreo GPS durante una semana.\n",
        "\n",
        "El archivo contiene 18 columnas y 548 filas de datos.\n",
        "\n",
        "Cada fila representa un jugador del equipo, y las columnas proporcionan información sobre la sesión, como el identificador de usuario, la fecha, la duración de la sesión, el tipo de sesión, la distancia recorrida durante la sesión, la distancia recorrida entre intervalos de velocidad y la máxima velocidad alcanzada en Km/h."
      ],
      "metadata": {
        "id": "1s0X6ZIJNvqF"
      }
    },
    {
      "cell_type": "markdown",
      "source": [
        "#**Análisis Exploratorio de Datos (EDA)**"
      ],
      "metadata": {
        "id": "B6o-Q1NN-zuk"
      }
    },
    {
      "cell_type": "markdown",
      "source": [
        "##**Carga del Dataset**"
      ],
      "metadata": {
        "id": "wJA1lFYRR_fv"
      }
    },
    {
      "cell_type": "code",
      "source": [
        "import seaborn as sns\n",
        "import matplotlib.pyplot as plt\n",
        "import pandas as pd\n",
        "import numpy as np\n",
        "\n",
        "\n",
        "\n",
        "url = 'https://raw.githubusercontent.com/stev0NaN/performancetest/main/week_sessions.csv'\n",
        "\n",
        "df = pd.read_csv(url)\n",
        "df = pd.DataFrame(df)\n",
        "\n",
        "df.head()"
      ],
      "metadata": {
        "colab": {
          "base_uri": "https://localhost:8080/",
          "height": 372
        },
        "id": "X9qyZvoj-ICF",
        "outputId": "5e55e6ab-efd8-4872-e1da-3c3f2a6f9afa"
      },
      "execution_count": null,
      "outputs": [
        {
          "output_type": "execute_result",
          "data": {
            "text/plain": [
              "         Username     Position  Team Name Session Date Match Day Session Type  \\\n",
              "0  phillippfarber   Midfielder  Wimu team   08/03/2021     +2 MD     Tactical   \n",
              "1     nereomarino  Centre Back  Wimu team   08/03/2021     +2 MD     Tactical   \n",
              "2  patrickkrueger   Midfielder  Wimu team   08/03/2021     +2 MD     Tactical   \n",
              "3    marvinsharpe       Winger  Wimu team   08/03/2021     +2 MD     Tactical   \n",
              "4        kianlong   Right Back  Wimu team   08/03/2021     +2 MD     Tactical   \n",
              "\n",
              "    Session Name Task Name Player Duration  Distance (m)  \\\n",
              "0  SESSION 08.03   Session        01:48:14   8133.592821   \n",
              "1  SESSION 08.03   Session        01:48:14   5086.417666   \n",
              "2  SESSION 08.03   Session        01:29:15    718.713690   \n",
              "3  SESSION 08.03   Session        01:48:14   9572.792150   \n",
              "4  SESSION 08.03   Session        01:48:14   8278.748661   \n",
              "\n",
              "   Speed Zones (m) [0.0, 6.0]  Speed Zones (m) [6.0, 12.0]  \\\n",
              "0                 2821.838135                  2873.652588   \n",
              "1                 2020.478394                  2062.734131   \n",
              "2                  431.481506                   273.783447   \n",
              "3                 4374.458008                  2901.281006   \n",
              "4                 3404.831299                  2830.495605   \n",
              "\n",
              "   Speed Zones (m) [12.0, 18.0]  Speed Zones (m) [18.0, 21.0]  \\\n",
              "0                   1458.796509                    426.581787   \n",
              "1                    899.350403                     83.303360   \n",
              "2                     13.448741                      0.000000   \n",
              "3                   1594.261841                    330.291931   \n",
              "4                   1655.305176                    237.453812   \n",
              "\n",
              "   Speed Zones (m) [21.0, 24.0]  Speed Zones (m) [24.0, 50.0]  \\\n",
              "0                    343.451843                    209.272110   \n",
              "1                     20.551388                      0.000000   \n",
              "2                      0.000000                      0.000000   \n",
              "3                    249.323852                    123.175400   \n",
              "4                     91.589828                     59.072899   \n",
              "\n",
              "   Max Speed (km/h)  Max Speed (Historical Player Maximum)  \n",
              "0         31.161600                              36.390000  \n",
              "1         23.587200                              33.570000  \n",
              "2         15.706800                              34.247002  \n",
              "3         31.323601                              37.723999  \n",
              "4         31.226398                              37.720000  "
            ],
            "text/html": [
              "\n",
              "  <div id=\"df-fb823bf1-0b65-4837-b4d3-24f3553bdd60\">\n",
              "    <div class=\"colab-df-container\">\n",
              "      <div>\n",
              "<style scoped>\n",
              "    .dataframe tbody tr th:only-of-type {\n",
              "        vertical-align: middle;\n",
              "    }\n",
              "\n",
              "    .dataframe tbody tr th {\n",
              "        vertical-align: top;\n",
              "    }\n",
              "\n",
              "    .dataframe thead th {\n",
              "        text-align: right;\n",
              "    }\n",
              "</style>\n",
              "<table border=\"1\" class=\"dataframe\">\n",
              "  <thead>\n",
              "    <tr style=\"text-align: right;\">\n",
              "      <th></th>\n",
              "      <th>Username</th>\n",
              "      <th>Position</th>\n",
              "      <th>Team Name</th>\n",
              "      <th>Session Date</th>\n",
              "      <th>Match Day</th>\n",
              "      <th>Session Type</th>\n",
              "      <th>Session Name</th>\n",
              "      <th>Task Name</th>\n",
              "      <th>Player Duration</th>\n",
              "      <th>Distance (m)</th>\n",
              "      <th>Speed Zones (m) [0.0, 6.0]</th>\n",
              "      <th>Speed Zones (m) [6.0, 12.0]</th>\n",
              "      <th>Speed Zones (m) [12.0, 18.0]</th>\n",
              "      <th>Speed Zones (m) [18.0, 21.0]</th>\n",
              "      <th>Speed Zones (m) [21.0, 24.0]</th>\n",
              "      <th>Speed Zones (m) [24.0, 50.0]</th>\n",
              "      <th>Max Speed (km/h)</th>\n",
              "      <th>Max Speed (Historical Player Maximum)</th>\n",
              "    </tr>\n",
              "  </thead>\n",
              "  <tbody>\n",
              "    <tr>\n",
              "      <th>0</th>\n",
              "      <td>phillippfarber</td>\n",
              "      <td>Midfielder</td>\n",
              "      <td>Wimu team</td>\n",
              "      <td>08/03/2021</td>\n",
              "      <td>+2 MD</td>\n",
              "      <td>Tactical</td>\n",
              "      <td>SESSION 08.03</td>\n",
              "      <td>Session</td>\n",
              "      <td>01:48:14</td>\n",
              "      <td>8133.592821</td>\n",
              "      <td>2821.838135</td>\n",
              "      <td>2873.652588</td>\n",
              "      <td>1458.796509</td>\n",
              "      <td>426.581787</td>\n",
              "      <td>343.451843</td>\n",
              "      <td>209.272110</td>\n",
              "      <td>31.161600</td>\n",
              "      <td>36.390000</td>\n",
              "    </tr>\n",
              "    <tr>\n",
              "      <th>1</th>\n",
              "      <td>nereomarino</td>\n",
              "      <td>Centre Back</td>\n",
              "      <td>Wimu team</td>\n",
              "      <td>08/03/2021</td>\n",
              "      <td>+2 MD</td>\n",
              "      <td>Tactical</td>\n",
              "      <td>SESSION 08.03</td>\n",
              "      <td>Session</td>\n",
              "      <td>01:48:14</td>\n",
              "      <td>5086.417666</td>\n",
              "      <td>2020.478394</td>\n",
              "      <td>2062.734131</td>\n",
              "      <td>899.350403</td>\n",
              "      <td>83.303360</td>\n",
              "      <td>20.551388</td>\n",
              "      <td>0.000000</td>\n",
              "      <td>23.587200</td>\n",
              "      <td>33.570000</td>\n",
              "    </tr>\n",
              "    <tr>\n",
              "      <th>2</th>\n",
              "      <td>patrickkrueger</td>\n",
              "      <td>Midfielder</td>\n",
              "      <td>Wimu team</td>\n",
              "      <td>08/03/2021</td>\n",
              "      <td>+2 MD</td>\n",
              "      <td>Tactical</td>\n",
              "      <td>SESSION 08.03</td>\n",
              "      <td>Session</td>\n",
              "      <td>01:29:15</td>\n",
              "      <td>718.713690</td>\n",
              "      <td>431.481506</td>\n",
              "      <td>273.783447</td>\n",
              "      <td>13.448741</td>\n",
              "      <td>0.000000</td>\n",
              "      <td>0.000000</td>\n",
              "      <td>0.000000</td>\n",
              "      <td>15.706800</td>\n",
              "      <td>34.247002</td>\n",
              "    </tr>\n",
              "    <tr>\n",
              "      <th>3</th>\n",
              "      <td>marvinsharpe</td>\n",
              "      <td>Winger</td>\n",
              "      <td>Wimu team</td>\n",
              "      <td>08/03/2021</td>\n",
              "      <td>+2 MD</td>\n",
              "      <td>Tactical</td>\n",
              "      <td>SESSION 08.03</td>\n",
              "      <td>Session</td>\n",
              "      <td>01:48:14</td>\n",
              "      <td>9572.792150</td>\n",
              "      <td>4374.458008</td>\n",
              "      <td>2901.281006</td>\n",
              "      <td>1594.261841</td>\n",
              "      <td>330.291931</td>\n",
              "      <td>249.323852</td>\n",
              "      <td>123.175400</td>\n",
              "      <td>31.323601</td>\n",
              "      <td>37.723999</td>\n",
              "    </tr>\n",
              "    <tr>\n",
              "      <th>4</th>\n",
              "      <td>kianlong</td>\n",
              "      <td>Right Back</td>\n",
              "      <td>Wimu team</td>\n",
              "      <td>08/03/2021</td>\n",
              "      <td>+2 MD</td>\n",
              "      <td>Tactical</td>\n",
              "      <td>SESSION 08.03</td>\n",
              "      <td>Session</td>\n",
              "      <td>01:48:14</td>\n",
              "      <td>8278.748661</td>\n",
              "      <td>3404.831299</td>\n",
              "      <td>2830.495605</td>\n",
              "      <td>1655.305176</td>\n",
              "      <td>237.453812</td>\n",
              "      <td>91.589828</td>\n",
              "      <td>59.072899</td>\n",
              "      <td>31.226398</td>\n",
              "      <td>37.720000</td>\n",
              "    </tr>\n",
              "  </tbody>\n",
              "</table>\n",
              "</div>\n",
              "      <button class=\"colab-df-convert\" onclick=\"convertToInteractive('df-fb823bf1-0b65-4837-b4d3-24f3553bdd60')\"\n",
              "              title=\"Convert this dataframe to an interactive table.\"\n",
              "              style=\"display:none;\">\n",
              "        \n",
              "  <svg xmlns=\"http://www.w3.org/2000/svg\" height=\"24px\"viewBox=\"0 0 24 24\"\n",
              "       width=\"24px\">\n",
              "    <path d=\"M0 0h24v24H0V0z\" fill=\"none\"/>\n",
              "    <path d=\"M18.56 5.44l.94 2.06.94-2.06 2.06-.94-2.06-.94-.94-2.06-.94 2.06-2.06.94zm-11 1L8.5 8.5l.94-2.06 2.06-.94-2.06-.94L8.5 2.5l-.94 2.06-2.06.94zm10 10l.94 2.06.94-2.06 2.06-.94-2.06-.94-.94-2.06-.94 2.06-2.06.94z\"/><path d=\"M17.41 7.96l-1.37-1.37c-.4-.4-.92-.59-1.43-.59-.52 0-1.04.2-1.43.59L10.3 9.45l-7.72 7.72c-.78.78-.78 2.05 0 2.83L4 21.41c.39.39.9.59 1.41.59.51 0 1.02-.2 1.41-.59l7.78-7.78 2.81-2.81c.8-.78.8-2.07 0-2.86zM5.41 20L4 18.59l7.72-7.72 1.47 1.35L5.41 20z\"/>\n",
              "  </svg>\n",
              "      </button>\n",
              "      \n",
              "  <style>\n",
              "    .colab-df-container {\n",
              "      display:flex;\n",
              "      flex-wrap:wrap;\n",
              "      gap: 12px;\n",
              "    }\n",
              "\n",
              "    .colab-df-convert {\n",
              "      background-color: #E8F0FE;\n",
              "      border: none;\n",
              "      border-radius: 50%;\n",
              "      cursor: pointer;\n",
              "      display: none;\n",
              "      fill: #1967D2;\n",
              "      height: 32px;\n",
              "      padding: 0 0 0 0;\n",
              "      width: 32px;\n",
              "    }\n",
              "\n",
              "    .colab-df-convert:hover {\n",
              "      background-color: #E2EBFA;\n",
              "      box-shadow: 0px 1px 2px rgba(60, 64, 67, 0.3), 0px 1px 3px 1px rgba(60, 64, 67, 0.15);\n",
              "      fill: #174EA6;\n",
              "    }\n",
              "\n",
              "    [theme=dark] .colab-df-convert {\n",
              "      background-color: #3B4455;\n",
              "      fill: #D2E3FC;\n",
              "    }\n",
              "\n",
              "    [theme=dark] .colab-df-convert:hover {\n",
              "      background-color: #434B5C;\n",
              "      box-shadow: 0px 1px 3px 1px rgba(0, 0, 0, 0.15);\n",
              "      filter: drop-shadow(0px 1px 2px rgba(0, 0, 0, 0.3));\n",
              "      fill: #FFFFFF;\n",
              "    }\n",
              "  </style>\n",
              "\n",
              "      <script>\n",
              "        const buttonEl =\n",
              "          document.querySelector('#df-fb823bf1-0b65-4837-b4d3-24f3553bdd60 button.colab-df-convert');\n",
              "        buttonEl.style.display =\n",
              "          google.colab.kernel.accessAllowed ? 'block' : 'none';\n",
              "\n",
              "        async function convertToInteractive(key) {\n",
              "          const element = document.querySelector('#df-fb823bf1-0b65-4837-b4d3-24f3553bdd60');\n",
              "          const dataTable =\n",
              "            await google.colab.kernel.invokeFunction('convertToInteractive',\n",
              "                                                     [key], {});\n",
              "          if (!dataTable) return;\n",
              "\n",
              "          const docLinkHtml = 'Like what you see? Visit the ' +\n",
              "            '<a target=\"_blank\" href=https://colab.research.google.com/notebooks/data_table.ipynb>data table notebook</a>'\n",
              "            + ' to learn more about interactive tables.';\n",
              "          element.innerHTML = '';\n",
              "          dataTable['output_type'] = 'display_data';\n",
              "          await google.colab.output.renderOutput(dataTable, element);\n",
              "          const docLink = document.createElement('div');\n",
              "          docLink.innerHTML = docLinkHtml;\n",
              "          element.appendChild(docLink);\n",
              "        }\n",
              "      </script>\n",
              "    </div>\n",
              "  </div>\n",
              "  "
            ]
          },
          "metadata": {},
          "execution_count": 3
        }
      ]
    },
    {
      "cell_type": "code",
      "source": [
        "df.shape"
      ],
      "metadata": {
        "colab": {
          "base_uri": "https://localhost:8080/"
        },
        "id": "ZxwfILlbf0i-",
        "outputId": "2d92c5a5-66b4-4f31-d111-2de944ce0897"
      },
      "execution_count": null,
      "outputs": [
        {
          "output_type": "execute_result",
          "data": {
            "text/plain": [
              "(574, 18)"
            ]
          },
          "metadata": {},
          "execution_count": 4
        }
      ]
    },
    {
      "cell_type": "code",
      "source": [
        "df.columns"
      ],
      "metadata": {
        "id": "R58yyvF5YXta",
        "colab": {
          "base_uri": "https://localhost:8080/"
        },
        "outputId": "904eedc2-589e-46a2-f2e8-2876376947e9"
      },
      "execution_count": null,
      "outputs": [
        {
          "output_type": "execute_result",
          "data": {
            "text/plain": [
              "Index(['Username', 'Position', 'Team Name', 'Session Date', 'Match Day',\n",
              "       'Session Type', 'Session Name', 'Task Name', 'Player Duration',\n",
              "       'Distance (m)', 'Speed Zones (m) [0.0, 6.0]',\n",
              "       'Speed Zones (m) [6.0, 12.0]', 'Speed Zones (m) [12.0, 18.0]',\n",
              "       'Speed Zones (m) [18.0, 21.0]', 'Speed Zones (m) [21.0, 24.0]',\n",
              "       'Speed Zones (m) [24.0, 50.0]', 'Max Speed (km/h)',\n",
              "       'Max Speed (Historical Player Maximum)'],\n",
              "      dtype='object')"
            ]
          },
          "metadata": {},
          "execution_count": 5
        }
      ]
    },
    {
      "cell_type": "code",
      "source": [
        "jugador = df['Username']\n",
        "jugador.drop_duplicates(inplace = True)\n",
        "\n",
        "posiciones = df['Position']\n",
        "posiciones.drop_duplicates(inplace = True)"
      ],
      "metadata": {
        "id": "_4Dgm8ja-b4F"
      },
      "execution_count": null,
      "outputs": []
    },
    {
      "cell_type": "code",
      "source": [
        "\n",
        "df1 = df.drop(['Username','Position','Team Name','Session Type','Match Day','Session Name','Task Name', 'Player Duration',\t'Speed Zones (m) [0.0, 6.0]', 'Speed Zones (m) [6.0, 12.0]', 'Speed Zones (m) [12.0, 18.0]', 'Speed Zones (m) [18.0, 21.0]',\t'Speed Zones (m) [21.0, 24.0]',\t'Speed Zones (m) [24.0, 50.0]',\t'Max Speed (km/h)',\t'Max Speed (Historical Player Maximum)'], axis=1)\n",
        "\n",
        "df1 = df1.set_index('Session Date')\n",
        "\n",
        "#df1"
      ],
      "metadata": {
        "id": "BMwdM785Kppx"
      },
      "execution_count": null,
      "outputs": []
    },
    {
      "cell_type": "code",
      "source": [
        "df2 = df.drop(['Session Date','Team Name','Session Type','Match Day','Session Name','Task Name', 'Player Duration',\t'Speed Zones (m) [0.0, 6.0]', 'Speed Zones (m) [6.0, 12.0]', 'Speed Zones (m) [12.0, 18.0]', 'Speed Zones (m) [18.0, 21.0]',\t'Speed Zones (m) [21.0, 24.0]',\t'Speed Zones (m) [24.0, 50.0]',\t'Max Speed (Historical Player Maximum)'], axis=1)\n",
        "\n",
        "#df2 = df2.set_index('Session Date')\n",
        "\n",
        "df2"
      ],
      "metadata": {
        "colab": {
          "base_uri": "https://localhost:8080/",
          "height": 424
        },
        "id": "g06SDwVoSriZ",
        "outputId": "d2ba325f-bae2-4412-ea86-7ef7cd1e38fd"
      },
      "execution_count": null,
      "outputs": [
        {
          "output_type": "execute_result",
          "data": {
            "text/plain": [
              "           Username     Position  Distance (m)  Max Speed (km/h)\n",
              "0    phillippfarber   Midfielder   8133.592821         31.161600\n",
              "1       nereomarino  Centre Back   5086.417666         23.587200\n",
              "2    patrickkrueger   Midfielder    718.713690         15.706800\n",
              "3      marvinsharpe       Winger   9572.792150         31.323601\n",
              "4          kianlong   Right Back   8278.748661         31.226398\n",
              "..              ...          ...           ...               ...\n",
              "569      davutmeijs       Winger   1086.832229         25.362000\n",
              "570     luisribeiro       Winger   1198.952413         29.087999\n",
              "571         marmion    Left Back    981.093150         25.358400\n",
              "572     nereomarino  Centre Back    911.921996         27.831600\n",
              "573            TEAM         TEAM   1081.964819         24.085309\n",
              "\n",
              "[574 rows x 4 columns]"
            ],
            "text/html": [
              "\n",
              "  <div id=\"df-3117d63b-d041-43c6-936a-f699f08d6c1c\">\n",
              "    <div class=\"colab-df-container\">\n",
              "      <div>\n",
              "<style scoped>\n",
              "    .dataframe tbody tr th:only-of-type {\n",
              "        vertical-align: middle;\n",
              "    }\n",
              "\n",
              "    .dataframe tbody tr th {\n",
              "        vertical-align: top;\n",
              "    }\n",
              "\n",
              "    .dataframe thead th {\n",
              "        text-align: right;\n",
              "    }\n",
              "</style>\n",
              "<table border=\"1\" class=\"dataframe\">\n",
              "  <thead>\n",
              "    <tr style=\"text-align: right;\">\n",
              "      <th></th>\n",
              "      <th>Username</th>\n",
              "      <th>Position</th>\n",
              "      <th>Distance (m)</th>\n",
              "      <th>Max Speed (km/h)</th>\n",
              "    </tr>\n",
              "  </thead>\n",
              "  <tbody>\n",
              "    <tr>\n",
              "      <th>0</th>\n",
              "      <td>phillippfarber</td>\n",
              "      <td>Midfielder</td>\n",
              "      <td>8133.592821</td>\n",
              "      <td>31.161600</td>\n",
              "    </tr>\n",
              "    <tr>\n",
              "      <th>1</th>\n",
              "      <td>nereomarino</td>\n",
              "      <td>Centre Back</td>\n",
              "      <td>5086.417666</td>\n",
              "      <td>23.587200</td>\n",
              "    </tr>\n",
              "    <tr>\n",
              "      <th>2</th>\n",
              "      <td>patrickkrueger</td>\n",
              "      <td>Midfielder</td>\n",
              "      <td>718.713690</td>\n",
              "      <td>15.706800</td>\n",
              "    </tr>\n",
              "    <tr>\n",
              "      <th>3</th>\n",
              "      <td>marvinsharpe</td>\n",
              "      <td>Winger</td>\n",
              "      <td>9572.792150</td>\n",
              "      <td>31.323601</td>\n",
              "    </tr>\n",
              "    <tr>\n",
              "      <th>4</th>\n",
              "      <td>kianlong</td>\n",
              "      <td>Right Back</td>\n",
              "      <td>8278.748661</td>\n",
              "      <td>31.226398</td>\n",
              "    </tr>\n",
              "    <tr>\n",
              "      <th>...</th>\n",
              "      <td>...</td>\n",
              "      <td>...</td>\n",
              "      <td>...</td>\n",
              "      <td>...</td>\n",
              "    </tr>\n",
              "    <tr>\n",
              "      <th>569</th>\n",
              "      <td>davutmeijs</td>\n",
              "      <td>Winger</td>\n",
              "      <td>1086.832229</td>\n",
              "      <td>25.362000</td>\n",
              "    </tr>\n",
              "    <tr>\n",
              "      <th>570</th>\n",
              "      <td>luisribeiro</td>\n",
              "      <td>Winger</td>\n",
              "      <td>1198.952413</td>\n",
              "      <td>29.087999</td>\n",
              "    </tr>\n",
              "    <tr>\n",
              "      <th>571</th>\n",
              "      <td>marmion</td>\n",
              "      <td>Left Back</td>\n",
              "      <td>981.093150</td>\n",
              "      <td>25.358400</td>\n",
              "    </tr>\n",
              "    <tr>\n",
              "      <th>572</th>\n",
              "      <td>nereomarino</td>\n",
              "      <td>Centre Back</td>\n",
              "      <td>911.921996</td>\n",
              "      <td>27.831600</td>\n",
              "    </tr>\n",
              "    <tr>\n",
              "      <th>573</th>\n",
              "      <td>TEAM</td>\n",
              "      <td>TEAM</td>\n",
              "      <td>1081.964819</td>\n",
              "      <td>24.085309</td>\n",
              "    </tr>\n",
              "  </tbody>\n",
              "</table>\n",
              "<p>574 rows × 4 columns</p>\n",
              "</div>\n",
              "      <button class=\"colab-df-convert\" onclick=\"convertToInteractive('df-3117d63b-d041-43c6-936a-f699f08d6c1c')\"\n",
              "              title=\"Convert this dataframe to an interactive table.\"\n",
              "              style=\"display:none;\">\n",
              "        \n",
              "  <svg xmlns=\"http://www.w3.org/2000/svg\" height=\"24px\"viewBox=\"0 0 24 24\"\n",
              "       width=\"24px\">\n",
              "    <path d=\"M0 0h24v24H0V0z\" fill=\"none\"/>\n",
              "    <path d=\"M18.56 5.44l.94 2.06.94-2.06 2.06-.94-2.06-.94-.94-2.06-.94 2.06-2.06.94zm-11 1L8.5 8.5l.94-2.06 2.06-.94-2.06-.94L8.5 2.5l-.94 2.06-2.06.94zm10 10l.94 2.06.94-2.06 2.06-.94-2.06-.94-.94-2.06-.94 2.06-2.06.94z\"/><path d=\"M17.41 7.96l-1.37-1.37c-.4-.4-.92-.59-1.43-.59-.52 0-1.04.2-1.43.59L10.3 9.45l-7.72 7.72c-.78.78-.78 2.05 0 2.83L4 21.41c.39.39.9.59 1.41.59.51 0 1.02-.2 1.41-.59l7.78-7.78 2.81-2.81c.8-.78.8-2.07 0-2.86zM5.41 20L4 18.59l7.72-7.72 1.47 1.35L5.41 20z\"/>\n",
              "  </svg>\n",
              "      </button>\n",
              "      \n",
              "  <style>\n",
              "    .colab-df-container {\n",
              "      display:flex;\n",
              "      flex-wrap:wrap;\n",
              "      gap: 12px;\n",
              "    }\n",
              "\n",
              "    .colab-df-convert {\n",
              "      background-color: #E8F0FE;\n",
              "      border: none;\n",
              "      border-radius: 50%;\n",
              "      cursor: pointer;\n",
              "      display: none;\n",
              "      fill: #1967D2;\n",
              "      height: 32px;\n",
              "      padding: 0 0 0 0;\n",
              "      width: 32px;\n",
              "    }\n",
              "\n",
              "    .colab-df-convert:hover {\n",
              "      background-color: #E2EBFA;\n",
              "      box-shadow: 0px 1px 2px rgba(60, 64, 67, 0.3), 0px 1px 3px 1px rgba(60, 64, 67, 0.15);\n",
              "      fill: #174EA6;\n",
              "    }\n",
              "\n",
              "    [theme=dark] .colab-df-convert {\n",
              "      background-color: #3B4455;\n",
              "      fill: #D2E3FC;\n",
              "    }\n",
              "\n",
              "    [theme=dark] .colab-df-convert:hover {\n",
              "      background-color: #434B5C;\n",
              "      box-shadow: 0px 1px 3px 1px rgba(0, 0, 0, 0.15);\n",
              "      filter: drop-shadow(0px 1px 2px rgba(0, 0, 0, 0.3));\n",
              "      fill: #FFFFFF;\n",
              "    }\n",
              "  </style>\n",
              "\n",
              "      <script>\n",
              "        const buttonEl =\n",
              "          document.querySelector('#df-3117d63b-d041-43c6-936a-f699f08d6c1c button.colab-df-convert');\n",
              "        buttonEl.style.display =\n",
              "          google.colab.kernel.accessAllowed ? 'block' : 'none';\n",
              "\n",
              "        async function convertToInteractive(key) {\n",
              "          const element = document.querySelector('#df-3117d63b-d041-43c6-936a-f699f08d6c1c');\n",
              "          const dataTable =\n",
              "            await google.colab.kernel.invokeFunction('convertToInteractive',\n",
              "                                                     [key], {});\n",
              "          if (!dataTable) return;\n",
              "\n",
              "          const docLinkHtml = 'Like what you see? Visit the ' +\n",
              "            '<a target=\"_blank\" href=https://colab.research.google.com/notebooks/data_table.ipynb>data table notebook</a>'\n",
              "            + ' to learn more about interactive tables.';\n",
              "          element.innerHTML = '';\n",
              "          dataTable['output_type'] = 'display_data';\n",
              "          await google.colab.output.renderOutput(dataTable, element);\n",
              "          const docLink = document.createElement('div');\n",
              "          docLink.innerHTML = docLinkHtml;\n",
              "          element.appendChild(docLink);\n",
              "        }\n",
              "      </script>\n",
              "    </div>\n",
              "  </div>\n",
              "  "
            ]
          },
          "metadata": {},
          "execution_count": 8
        }
      ]
    },
    {
      "cell_type": "markdown",
      "source": [
        "##**Análisis Exploratorio de Datos (Respondiendo Preguntas del Cliente)**"
      ],
      "metadata": {
        "id": "I7gmpxRISTTZ"
      }
    },
    {
      "cell_type": "markdown",
      "source": [
        "Con el siguiente gráfico encontramos que el entrenamiento táctico colectivo tiene la mayor densidad de entrenamiento dentro de las sesiones. Lo cual nos podría indicar que el tipo de entrenamiento llevado a cabo forma parte de las nuevas tendencias en entrenamiento como lo es la Periodización Táctica o el Entrenamiento Estructurado, donde en la sesión no se separa ninguno de los elementos del juego para entrenarlos por separado."
      ],
      "metadata": {
        "id": "29GhFGf9HXBx"
      }
    },
    {
      "cell_type": "code",
      "source": [
        "ax=sns.histplot(\n",
        "    data=df, hue=\"Session Type\",\n",
        "    x=\"Session Type\")\n",
        "ax.set(xlabel='Tipo de Entrenamiento', ylabel='Densidad', title='Tarea de Entrenamiento Más Popular')\n",
        " \n",
        "plt.rc('xtick', labelsize=7)\n",
        "plt.show()\n",
        "\n"
      ],
      "metadata": {
        "colab": {
          "base_uri": "https://localhost:8080/"
        },
        "id": "WVdtJRis_x4Q",
        "outputId": "65704a01-c067-42e8-e77c-510bfef5914f"
      },
      "execution_count": null,
      "outputs": [
        {
          "output_type": "display_data",
          "data": {
            "text/plain": [
              "<Figure size 640x480 with 1 Axes>"
            ],
            "image/png": "[encoded data removed]"
          },
          "metadata": {}
        }
      ]
    },
    {
      "cell_type": "markdown",
      "source": [
        "Aquí podemos identificar el día de la semana que más carga en distancia tenemos.\n",
        "\n",
        "Y nos arroja un dato importante y es que el fin de semana en sábado es el día que mayor carga tenemos ya que es el día de juego oficial y por obviedad la competencia genera mayor carga. Lo que nos indica que la carga semanal de entrenamiento de la resistencia no está llegando a valores cercanos a la competencia por lo tanto se dería ajustar la carga para que los estímulos en los días de entrenamiento de la resistencia sean lo más parecidos al día de competencia.\n"
      ],
      "metadata": {
        "id": "8TSdvy43IDFo"
      }
    },
    {
      "cell_type": "code",
      "source": [
        "ax= sns.relplot(x = \"Session Date\", y = \"Distance (m)\", data = df1, kind = \"line\")\n",
        "ax.set (xlabel='Dia', ylabel='Distancia', title='Cargas En Metros Por Día')\n",
        "plt.rc('xtick', labelsize=5)\n",
        "plt.show()\n",
        "\n"
      ],
      "metadata": {
        "colab": {
          "base_uri": "https://localhost:8080/"
        },
        "id": "uC5W1wT2Didw",
        "outputId": "13b65bff-c335-41d5-a682-53528f450db7"
      },
      "execution_count": null,
      "outputs": [
        {
          "output_type": "display_data",
          "data": {
            "text/plain": [
              "<Figure size 500x500 with 1 Axes>"
            ],
            "image/png": "[encoded data removed]"
          },
          "metadata": {}
        }
      ]
    },
    {
      "cell_type": "markdown",
      "source": [
        "Con la suma de metros por jugador encontramos que hay jugadores que tienen una elevada carga con respecto al de otros jugadores, debido a que las posiciones de los jugadores que están bajos en distancia, nos pueden decir que dentro de las tareas de entrenamiento o incluso juegos oficiales han tenido un rendimiento mas bajo de lo normal. O nos podría indicar jugadores que están apartados del entrenamiento haciendo tareas diferenciadas debido a una lesión."
      ],
      "metadata": {
        "id": "9HrmZ303tDI9"
      }
    },
    {
      "cell_type": "code",
      "source": [
        "df2.groupby('Username')['Distance (m)'].sum().plot(kind='barh')\n",
        "\n",
        "plt.xlabel('Distancia')\n",
        "plt.ylabel('Jugador')\n",
        "plt.title('Distancia total recorrida por el jugador')\n",
        "plt.show()"
      ],
      "metadata": {
        "colab": {
          "base_uri": "https://localhost:8080/",
          "height": 464
        },
        "id": "aiHJha89Qhea",
        "outputId": "27452b2e-6505-4061-8272-d12f3affa937"
      },
      "execution_count": null,
      "outputs": [
        {
          "output_type": "display_data",
          "data": {
            "text/plain": [
              "<Figure size 640x480 with 1 Axes>"
            ],
            "image/png": "[encoded data removed]"
          },
          "metadata": {}
        }
      ]
    },
    {
      "cell_type": "markdown",
      "source": [
        "Con este gráfico de cajas podemos observar a los jugadores y su posición y quienes fueron los que alcanzan mayor velocidad durante la semana.\n",
        "\n",
        "Descubrimos que las posiciones tienen un pico de velocidad máxima alcanzada similar y los valores por debajo nos hablan de aspectos tacticos que pudieran repercutir en el desempeño del equipo, vemos la posición de defensor central que tiene valores muy bajos lo cual nos habla de que el jugador pudo haber estado caminando y desconectado de las fases del juego; vemos también valores bajos en extremos y laterales lo cual nos hablaría que están teniendo regresos a defender la posición muy lenta.\n",
        "\n",
        "Cabe destacar el trabajo de los medicampistas ya que pasan por la mayoría de las zonas de velocidad, por lo tanto nos indica una implicación máxima en el juego y con el equipo estando atentos a las transiciones, apoyos, desmarques, etc."
      ],
      "metadata": {
        "id": "HsRPXNkRxsqn"
      }
    },
    {
      "cell_type": "code",
      "source": [
        "ax = plt.subplots(figsize = (15, 8))\n",
        "\n",
        "ax=sns.boxplot(data=df2, x=\"Username\", y=\"Max Speed (km/h)\",  palette = \"Set3\", hue= 'Position')\n",
        "ax.set(title='Velocidad Máxima por Posición')\n",
        "plt.rc('xtick', labelsize=6)\n",
        "plt.show()"
      ],
      "metadata": {
        "colab": {
          "base_uri": "https://localhost:8080/",
          "height": 711
        },
        "id": "LlhkbtyMyDuB",
        "outputId": "6830b15d-8afa-4ace-a606-2558e0a48c75"
      },
      "execution_count": null,
      "outputs": [
        {
          "output_type": "display_data",
          "data": {
            "text/plain": [
              "<Figure size 1500x800 with 1 Axes>"
            ],
            "image/png": "[encoded data removed]"
          },
          "metadata": {}
        }
      ]
    },
    {
      "cell_type": "markdown",
      "source": [
        "# **Feature Selection**"
      ],
      "metadata": {
        "id": "VutQAUXbgawq"
      }
    },
    {
      "cell_type": "markdown",
      "source": [
        "Antes de comenzar, podemos observar que dentro del dataset hay algunas variables que con seguridad no aportarian en nada a la prediccion de la velocidad máxima. Como por ejemplo 'Team Name', 'Match Day', 'Session Type', 'Session Name', 'Task Name', 'Player Duration' por ello es que eliminamos del dataset.\n",
        "Y volvemos index el Username asociado a cada uno de los jugadores."
      ],
      "metadata": {
        "id": "6WSF4H6JARcU"
      }
    },
    {
      "cell_type": "code",
      "source": [
        "df_featsel = df.drop(['Team Name', 'Match Day', 'Session Type', 'Session Name', 'Task Name', 'Player Duration', 'Session Date'], axis=1)"
      ],
      "metadata": {
        "id": "fYQRItfcgio9"
      },
      "execution_count": null,
      "outputs": []
    },
    {
      "cell_type": "code",
      "source": [
        "df_featsel = df_featsel.set_index('Username')"
      ],
      "metadata": {
        "id": "ytmo6wxI9wXG"
      },
      "execution_count": null,
      "outputs": []
    },
    {
      "cell_type": "code",
      "source": [
        "#Reemplazar el nombre de posición Centre Back por Center Back para que esté normalizado el nombre de la posición\n",
        "\n",
        "df_featsel = df_featsel.replace('Centre Back', 'Center Back')\n",
        "\n",
        "df_featsel.head()"
      ],
      "metadata": {
        "colab": {
          "base_uri": "https://localhost:8080/",
          "height": 316
        },
        "id": "21llFG2mPc1P",
        "outputId": "352c5826-4a34-4601-dc2b-555aa89f05e1"
      },
      "execution_count": null,
      "outputs": [
        {
          "output_type": "execute_result",
          "data": {
            "text/plain": [
              "                   Position  Distance (m)  Speed Zones (m) [0.0, 6.0]  \\\n",
              "Username                                                                \n",
              "phillippfarber   Midfielder   8133.592821                 2821.838135   \n",
              "nereomarino     Center Back   5086.417666                 2020.478394   \n",
              "patrickkrueger   Midfielder    718.713690                  431.481506   \n",
              "marvinsharpe         Winger   9572.792150                 4374.458008   \n",
              "kianlong         Right Back   8278.748661                 3404.831299   \n",
              "\n",
              "                Speed Zones (m) [6.0, 12.0]  Speed Zones (m) [12.0, 18.0]  \\\n",
              "Username                                                                    \n",
              "phillippfarber                  2873.652588                   1458.796509   \n",
              "nereomarino                     2062.734131                    899.350403   \n",
              "patrickkrueger                   273.783447                     13.448741   \n",
              "marvinsharpe                    2901.281006                   1594.261841   \n",
              "kianlong                        2830.495605                   1655.305176   \n",
              "\n",
              "                Speed Zones (m) [18.0, 21.0]  Speed Zones (m) [21.0, 24.0]  \\\n",
              "Username                                                                     \n",
              "phillippfarber                    426.581787                    343.451843   \n",
              "nereomarino                        83.303360                     20.551388   \n",
              "patrickkrueger                      0.000000                      0.000000   \n",
              "marvinsharpe                      330.291931                    249.323852   \n",
              "kianlong                          237.453812                     91.589828   \n",
              "\n",
              "                Speed Zones (m) [24.0, 50.0]  Max Speed (km/h)  \\\n",
              "Username                                                         \n",
              "phillippfarber                    209.272110         31.161600   \n",
              "nereomarino                         0.000000         23.587200   \n",
              "patrickkrueger                      0.000000         15.706800   \n",
              "marvinsharpe                      123.175400         31.323601   \n",
              "kianlong                           59.072899         31.226398   \n",
              "\n",
              "                Max Speed (Historical Player Maximum)  \n",
              "Username                                               \n",
              "phillippfarber                              36.390000  \n",
              "nereomarino                                 33.570000  \n",
              "patrickkrueger                              34.247002  \n",
              "marvinsharpe                                37.723999  \n",
              "kianlong                                    37.720000  "
            ],
            "text/html": [
              "\n",
              "  <div id=\"df-40e74b1a-21e4-43b9-8732-f6dfb40ca426\">\n",
              "    <div class=\"colab-df-container\">\n",
              "      <div>\n",
              "<style scoped>\n",
              "    .dataframe tbody tr th:only-of-type {\n",
              "        vertical-align: middle;\n",
              "    }\n",
              "\n",
              "    .dataframe tbody tr th {\n",
              "        vertical-align: top;\n",
              "    }\n",
              "\n",
              "    .dataframe thead th {\n",
              "        text-align: right;\n",
              "    }\n",
              "</style>\n",
              "<table border=\"1\" class=\"dataframe\">\n",
              "  <thead>\n",
              "    <tr style=\"text-align: right;\">\n",
              "      <th></th>\n",
              "      <th>Position</th>\n",
              "      <th>Distance (m)</th>\n",
              "      <th>Speed Zones (m) [0.0, 6.0]</th>\n",
              "      <th>Speed Zones (m) [6.0, 12.0]</th>\n",
              "      <th>Speed Zones (m) [12.0, 18.0]</th>\n",
              "      <th>Speed Zones (m) [18.0, 21.0]</th>\n",
              "      <th>Speed Zones (m) [21.0, 24.0]</th>\n",
              "      <th>Speed Zones (m) [24.0, 50.0]</th>\n",
              "      <th>Max Speed (km/h)</th>\n",
              "      <th>Max Speed (Historical Player Maximum)</th>\n",
              "    </tr>\n",
              "    <tr>\n",
              "      <th>Username</th>\n",
              "      <th></th>\n",
              "      <th></th>\n",
              "      <th></th>\n",
              "      <th></th>\n",
              "      <th></th>\n",
              "      <th></th>\n",
              "      <th></th>\n",
              "      <th></th>\n",
              "      <th></th>\n",
              "      <th></th>\n",
              "    </tr>\n",
              "  </thead>\n",
              "  <tbody>\n",
              "    <tr>\n",
              "      <th>phillippfarber</th>\n",
              "      <td>Midfielder</td>\n",
              "      <td>8133.592821</td>\n",
              "      <td>2821.838135</td>\n",
              "      <td>2873.652588</td>\n",
              "      <td>1458.796509</td>\n",
              "      <td>426.581787</td>\n",
              "      <td>343.451843</td>\n",
              "      <td>209.272110</td>\n",
              "      <td>31.161600</td>\n",
              "      <td>36.390000</td>\n",
              "    </tr>\n",
              "    <tr>\n",
              "      <th>nereomarino</th>\n",
              "      <td>Center Back</td>\n",
              "      <td>5086.417666</td>\n",
              "      <td>2020.478394</td>\n",
              "      <td>2062.734131</td>\n",
              "      <td>899.350403</td>\n",
              "      <td>83.303360</td>\n",
              "      <td>20.551388</td>\n",
              "      <td>0.000000</td>\n",
              "      <td>23.587200</td>\n",
              "      <td>33.570000</td>\n",
              "    </tr>\n",
              "    <tr>\n",
              "      <th>patrickkrueger</th>\n",
              "      <td>Midfielder</td>\n",
              "      <td>718.713690</td>\n",
              "      <td>431.481506</td>\n",
              "      <td>273.783447</td>\n",
              "      <td>13.448741</td>\n",
              "      <td>0.000000</td>\n",
              "      <td>0.000000</td>\n",
              "      <td>0.000000</td>\n",
              "      <td>15.706800</td>\n",
              "      <td>34.247002</td>\n",
              "    </tr>\n",
              "    <tr>\n",
              "      <th>marvinsharpe</th>\n",
              "      <td>Winger</td>\n",
              "      <td>9572.792150</td>\n",
              "      <td>4374.458008</td>\n",
              "      <td>2901.281006</td>\n",
              "      <td>1594.261841</td>\n",
              "      <td>330.291931</td>\n",
              "      <td>249.323852</td>\n",
              "      <td>123.175400</td>\n",
              "      <td>31.323601</td>\n",
              "      <td>37.723999</td>\n",
              "    </tr>\n",
              "    <tr>\n",
              "      <th>kianlong</th>\n",
              "      <td>Right Back</td>\n",
              "      <td>8278.748661</td>\n",
              "      <td>3404.831299</td>\n",
              "      <td>2830.495605</td>\n",
              "      <td>1655.305176</td>\n",
              "      <td>237.453812</td>\n",
              "      <td>91.589828</td>\n",
              "      <td>59.072899</td>\n",
              "      <td>31.226398</td>\n",
              "      <td>37.720000</td>\n",
              "    </tr>\n",
              "  </tbody>\n",
              "</table>\n",
              "</div>\n",
              "      <button class=\"colab-df-convert\" onclick=\"convertToInteractive('df-40e74b1a-21e4-43b9-8732-f6dfb40ca426')\"\n",
              "              title=\"Convert this dataframe to an interactive table.\"\n",
              "              style=\"display:none;\">\n",
              "        \n",
              "  <svg xmlns=\"http://www.w3.org/2000/svg\" height=\"24px\"viewBox=\"0 0 24 24\"\n",
              "       width=\"24px\">\n",
              "    <path d=\"M0 0h24v24H0V0z\" fill=\"none\"/>\n",
              "    <path d=\"M18.56 5.44l.94 2.06.94-2.06 2.06-.94-2.06-.94-.94-2.06-.94 2.06-2.06.94zm-11 1L8.5 8.5l.94-2.06 2.06-.94-2.06-.94L8.5 2.5l-.94 2.06-2.06.94zm10 10l.94 2.06.94-2.06 2.06-.94-2.06-.94-.94-2.06-.94 2.06-2.06.94z\"/><path d=\"M17.41 7.96l-1.37-1.37c-.4-.4-.92-.59-1.43-.59-.52 0-1.04.2-1.43.59L10.3 9.45l-7.72 7.72c-.78.78-.78 2.05 0 2.83L4 21.41c.39.39.9.59 1.41.59.51 0 1.02-.2 1.41-.59l7.78-7.78 2.81-2.81c.8-.78.8-2.07 0-2.86zM5.41 20L4 18.59l7.72-7.72 1.47 1.35L5.41 20z\"/>\n",
              "  </svg>\n",
              "      </button>\n",
              "      \n",
              "  <style>\n",
              "    .colab-df-container {\n",
              "      display:flex;\n",
              "      flex-wrap:wrap;\n",
              "      gap: 12px;\n",
              "    }\n",
              "\n",
              "    .colab-df-convert {\n",
              "      background-color: #E8F0FE;\n",
              "      border: none;\n",
              "      border-radius: 50%;\n",
              "      cursor: pointer;\n",
              "      display: none;\n",
              "      fill: #1967D2;\n",
              "      height: 32px;\n",
              "      padding: 0 0 0 0;\n",
              "      width: 32px;\n",
              "    }\n",
              "\n",
              "    .colab-df-convert:hover {\n",
              "      background-color: #E2EBFA;\n",
              "      box-shadow: 0px 1px 2px rgba(60, 64, 67, 0.3), 0px 1px 3px 1px rgba(60, 64, 67, 0.15);\n",
              "      fill: #174EA6;\n",
              "    }\n",
              "\n",
              "    [theme=dark] .colab-df-convert {\n",
              "      background-color: #3B4455;\n",
              "      fill: #D2E3FC;\n",
              "    }\n",
              "\n",
              "    [theme=dark] .colab-df-convert:hover {\n",
              "      background-color: #434B5C;\n",
              "      box-shadow: 0px 1px 3px 1px rgba(0, 0, 0, 0.15);\n",
              "      filter: drop-shadow(0px 1px 2px rgba(0, 0, 0, 0.3));\n",
              "      fill: #FFFFFF;\n",
              "    }\n",
              "  </style>\n",
              "\n",
              "      <script>\n",
              "        const buttonEl =\n",
              "          document.querySelector('#df-40e74b1a-21e4-43b9-8732-f6dfb40ca426 button.colab-df-convert');\n",
              "        buttonEl.style.display =\n",
              "          google.colab.kernel.accessAllowed ? 'block' : 'none';\n",
              "\n",
              "        async function convertToInteractive(key) {\n",
              "          const element = document.querySelector('#df-40e74b1a-21e4-43b9-8732-f6dfb40ca426');\n",
              "          const dataTable =\n",
              "            await google.colab.kernel.invokeFunction('convertToInteractive',\n",
              "                                                     [key], {});\n",
              "          if (!dataTable) return;\n",
              "\n",
              "          const docLinkHtml = 'Like what you see? Visit the ' +\n",
              "            '<a target=\"_blank\" href=https://colab.research.google.com/notebooks/data_table.ipynb>data table notebook</a>'\n",
              "            + ' to learn more about interactive tables.';\n",
              "          element.innerHTML = '';\n",
              "          dataTable['output_type'] = 'display_data';\n",
              "          await google.colab.output.renderOutput(dataTable, element);\n",
              "          const docLink = document.createElement('div');\n",
              "          docLink.innerHTML = docLinkHtml;\n",
              "          element.appendChild(docLink);\n",
              "        }\n",
              "      </script>\n",
              "    </div>\n",
              "  </div>\n",
              "  "
            ]
          },
          "metadata": {},
          "execution_count": 15
        }
      ]
    },
    {
      "cell_type": "code",
      "source": [
        "#Eliminar las filas de TEAM y una que se creo al modificar el nombre de la posición Centre Back.\n",
        "\n",
        "df_featsel = df_featsel.drop([\"TEAM\"], axis =0)\n"
      ],
      "metadata": {
        "id": "xr43VHA058Tc"
      },
      "execution_count": null,
      "outputs": []
    },
    {
      "cell_type": "markdown",
      "source": [
        "El siguiente paso es convertir las variables categoricas en variables numericas para poder utilizar los algoritmos de reduccion de variables y los modelos de regresion. Realizaremos previamente tratamiento de datos nulos o faltantes, se comprueba que no tenemos valores nulos, procederemos a codificar las variables no numericas."
      ],
      "metadata": {
        "id": "S70h72I0Cnyp"
      }
    },
    {
      "cell_type": "code",
      "source": [
        "fig, ax = plt.subplots(figsize=(10, 5))\n",
        "sns.heatmap(df_featsel.isnull(),cbar=False,yticklabels=False,cmap = 'viridis')"
      ],
      "metadata": {
        "colab": {
          "base_uri": "https://localhost:8080/",
          "height": 616
        },
        "id": "iXOqoUQj_o4Z",
        "outputId": "53839058-a0e2-4ab5-e394-12d4d1795fb9"
      },
      "execution_count": null,
      "outputs": [
        {
          "output_type": "execute_result",
          "data": {
            "text/plain": [
              "<Axes: ylabel='Username'>"
            ]
          },
          "metadata": {},
          "execution_count": 17
        },
        {
          "output_type": "display_data",
          "data": {
            "text/plain": [
              "<Figure size 1000x500 with 1 Axes>"
            ],
            "image/png": "[encoded data removed]"
          },
          "metadata": {}
        }
      ]
    },
    {
      "cell_type": "markdown",
      "source": [
        "Ahora que no tenemos valores erróneos o nulos, vamos a codificar la variable no numérica."
      ],
      "metadata": {
        "id": "KQskYaYsSRT2"
      }
    },
    {
      "cell_type": "code",
      "source": [
        "#Importamos el labelencoder de scikit\n",
        "from sklearn.preprocessing import LabelEncoder\n",
        "LE = LabelEncoder()\n",
        "\n",
        "\n",
        "#convertimos en dato número la posición del jugador.\n",
        "df_featsel['Position'] = LE.fit_transform(df_featsel['Position'])\n",
        "df_featsel.shape"
      ],
      "metadata": {
        "colab": {
          "base_uri": "https://localhost:8080/"
        },
        "id": "YAFpwP15_aRp",
        "outputId": "f7f4be01-840b-456c-f004-2f4795b5da6a"
      },
      "execution_count": null,
      "outputs": [
        {
          "output_type": "execute_result",
          "data": {
            "text/plain": [
              "(525, 10)"
            ]
          },
          "metadata": {},
          "execution_count": 18
        }
      ]
    },
    {
      "cell_type": "code",
      "source": [
        "df_featsel['Position'].unique()"
      ],
      "metadata": {
        "colab": {
          "base_uri": "https://localhost:8080/"
        },
        "id": "3ULbPEgO9LQV",
        "outputId": "d67388dc-6b68-4a7e-a11f-eabf79aa9734"
      },
      "execution_count": null,
      "outputs": [
        {
          "output_type": "execute_result",
          "data": {
            "text/plain": [
              "array([2, 0, 5, 3, 1, 4])"
            ]
          },
          "metadata": {},
          "execution_count": 19
        }
      ]
    },
    {
      "cell_type": "markdown",
      "source": [
        "Realizaremos un analisis de componentes principales para tratar de determinar cual es el numero adecuado de variables a conservar en el modelo."
      ],
      "metadata": {
        "id": "S11Rig_Q_rJt"
      }
    },
    {
      "cell_type": "code",
      "source": [
        "#importamos el modulo de PCA de scikit learn\n",
        "from sklearn.decomposition import PCA\n",
        "from sklearn.preprocessing import StandardScaler\n",
        "\n",
        "#Escalar datos de las variables para que no sean números tan altos en velocidad.\n",
        "df_escalado = StandardScaler().fit_transform(df_featsel)\n",
        "print(df_escalado)\n",
        "df_escalado.shape"
      ],
      "metadata": {
        "colab": {
          "base_uri": "https://localhost:8080/"
        },
        "id": "HYQZvVJ0_W1S",
        "outputId": "7e4a25b6-f522-41af-ed8c-b2f3defc8e3f"
      },
      "execution_count": null,
      "outputs": [
        {
          "output_type": "stream",
          "name": "stdout",
          "text": [
            "[[-0.18704794  1.86285331  1.50541415 ...  3.56695152  1.0742553\n",
            "   1.04072759]\n",
            " [-1.2602738   0.85820494  0.83854924 ... -0.55025099  0.06774252\n",
            "  -0.27044638]\n",
            " [-0.18704794 -0.58181949 -0.4837611  ... -0.55025099 -0.97943269\n",
            "   0.04432924]\n",
            " ...\n",
            " [ 1.42279086 -0.42348562 -0.46251748 ... -0.18980965  0.79870797\n",
            "  -0.39598416]\n",
            " [-0.72366087 -0.49531344 -0.46502396 ... -0.45104928  0.3031058\n",
            "  -0.27044638]\n",
            " [-1.2602738  -0.51811905 -0.51902454 ... -0.3801787   0.63175325\n",
            "  -0.27044638]]\n"
          ]
        },
        {
          "output_type": "execute_result",
          "data": {
            "text/plain": [
              "(525, 10)"
            ]
          },
          "metadata": {},
          "execution_count": 20
        }
      ]
    },
    {
      "cell_type": "code",
      "source": [
        "#iniciamos el objeto de PCA\n",
        "pca = PCA()\n",
        "pca.fit(df_escalado)\n",
        "evr = pca.explained_variance_ratio_\n",
        "\n",
        "plt.figure(figsize=(12, 5))\n",
        "plt.plot(range(0, len(evr)), evr.cumsum(),marker=\"o\")\n",
        "plt.xlabel(\"Variables\")\n",
        "plt.ylabel(\"Varianza Explicada\")"
      ],
      "metadata": {
        "colab": {
          "base_uri": "https://localhost:8080/",
          "height": 477
        },
        "id": "GSiSw23Q8NpP",
        "outputId": "4fe2f09c-4f3d-4f3e-c778-5609ed60a31f"
      },
      "execution_count": null,
      "outputs": [
        {
          "output_type": "execute_result",
          "data": {
            "text/plain": [
              "Text(0, 0.5, 'Varianza Explicada')"
            ]
          },
          "metadata": {},
          "execution_count": 21
        },
        {
          "output_type": "display_data",
          "data": {
            "text/plain": [
              "<Figure size 1200x500 with 1 Axes>"
            ],
            "image/png": "[encoded data removed]"
          },
          "metadata": {}
        }
      ]
    },
    {
      "cell_type": "code",
      "source": [
        "print(\"Varianza explicada por las primeras 3 variables principales =\",np.cumsum(evr*100)[3])"
      ],
      "metadata": {
        "colab": {
          "base_uri": "https://localhost:8080/"
        },
        "id": "rbCY1eCuAxFj",
        "outputId": "438f0821-4951-49a1-f7b6-2feb134a9bc1"
      },
      "execution_count": null,
      "outputs": [
        {
          "output_type": "stream",
          "name": "stdout",
          "text": [
            "Varianza explicada por las primeras 3 variables principales = 93.39603789894774\n"
          ]
        }
      ]
    },
    {
      "cell_type": "markdown",
      "source": [
        "Con el analisis de componentes principales podemos deducir que las primeras 3 variables del dataset explican el 93% de la varianza del dataset, por lo que ahora realizaremos la seleccion de variables con k=3"
      ],
      "metadata": {
        "id": "rcw1_pr2BbMc"
      }
    },
    {
      "cell_type": "code",
      "source": [
        "x = df_featsel.drop('Max Speed (km/h)',1)\n",
        "y = df_featsel['Max Speed (km/h)']\n",
        "x.head()"
      ],
      "metadata": {
        "colab": {
          "base_uri": "https://localhost:8080/",
          "height": 334
        },
        "id": "O02_CmK8Bad_",
        "outputId": "d818d5d6-be53-4cf8-e969-ffc1f16cb89f"
      },
      "execution_count": null,
      "outputs": [
        {
          "output_type": "stream",
          "name": "stderr",
          "text": [
            "<ipython-input-23-b3fcf0c08dab>:1: FutureWarning: In a future version of pandas all arguments of DataFrame.drop except for the argument 'labels' will be keyword-only.\n",
            "  x = df_featsel.drop('Max Speed (km/h)',1)\n"
          ]
        },
        {
          "output_type": "execute_result",
          "data": {
            "text/plain": [
              "                Position  Distance (m)  Speed Zones (m) [0.0, 6.0]  \\\n",
              "Username                                                             \n",
              "phillippfarber         2   8133.592821                 2821.838135   \n",
              "nereomarino            0   5086.417666                 2020.478394   \n",
              "patrickkrueger         2    718.713690                  431.481506   \n",
              "marvinsharpe           5   9572.792150                 4374.458008   \n",
              "kianlong               3   8278.748661                 3404.831299   \n",
              "\n",
              "                Speed Zones (m) [6.0, 12.0]  Speed Zones (m) [12.0, 18.0]  \\\n",
              "Username                                                                    \n",
              "phillippfarber                  2873.652588                   1458.796509   \n",
              "nereomarino                     2062.734131                    899.350403   \n",
              "patrickkrueger                   273.783447                     13.448741   \n",
              "marvinsharpe                    2901.281006                   1594.261841   \n",
              "kianlong                        2830.495605                   1655.305176   \n",
              "\n",
              "                Speed Zones (m) [18.0, 21.0]  Speed Zones (m) [21.0, 24.0]  \\\n",
              "Username                                                                     \n",
              "phillippfarber                    426.581787                    343.451843   \n",
              "nereomarino                        83.303360                     20.551388   \n",
              "patrickkrueger                      0.000000                      0.000000   \n",
              "marvinsharpe                      330.291931                    249.323852   \n",
              "kianlong                          237.453812                     91.589828   \n",
              "\n",
              "                Speed Zones (m) [24.0, 50.0]  \\\n",
              "Username                                       \n",
              "phillippfarber                    209.272110   \n",
              "nereomarino                         0.000000   \n",
              "patrickkrueger                      0.000000   \n",
              "marvinsharpe                      123.175400   \n",
              "kianlong                           59.072899   \n",
              "\n",
              "                Max Speed (Historical Player Maximum)  \n",
              "Username                                               \n",
              "phillippfarber                              36.390000  \n",
              "nereomarino                                 33.570000  \n",
              "patrickkrueger                              34.247002  \n",
              "marvinsharpe                                37.723999  \n",
              "kianlong                                    37.720000  "
            ],
            "text/html": [
              "\n",
              "  <div id=\"df-d565e28c-51e8-4966-bc83-88019b68a308\">\n",
              "    <div class=\"colab-df-container\">\n",
              "      <div>\n",
              "<style scoped>\n",
              "    .dataframe tbody tr th:only-of-type {\n",
              "        vertical-align: middle;\n",
              "    }\n",
              "\n",
              "    .dataframe tbody tr th {\n",
              "        vertical-align: top;\n",
              "    }\n",
              "\n",
              "    .dataframe thead th {\n",
              "        text-align: right;\n",
              "    }\n",
              "</style>\n",
              "<table border=\"1\" class=\"dataframe\">\n",
              "  <thead>\n",
              "    <tr style=\"text-align: right;\">\n",
              "      <th></th>\n",
              "      <th>Position</th>\n",
              "      <th>Distance (m)</th>\n",
              "      <th>Speed Zones (m) [0.0, 6.0]</th>\n",
              "      <th>Speed Zones (m) [6.0, 12.0]</th>\n",
              "      <th>Speed Zones (m) [12.0, 18.0]</th>\n",
              "      <th>Speed Zones (m) [18.0, 21.0]</th>\n",
              "      <th>Speed Zones (m) [21.0, 24.0]</th>\n",
              "      <th>Speed Zones (m) [24.0, 50.0]</th>\n",
              "      <th>Max Speed (Historical Player Maximum)</th>\n",
              "    </tr>\n",
              "    <tr>\n",
              "      <th>Username</th>\n",
              "      <th></th>\n",
              "      <th></th>\n",
              "      <th></th>\n",
              "      <th></th>\n",
              "      <th></th>\n",
              "      <th></th>\n",
              "      <th></th>\n",
              "      <th></th>\n",
              "      <th></th>\n",
              "    </tr>\n",
              "  </thead>\n",
              "  <tbody>\n",
              "    <tr>\n",
              "      <th>phillippfarber</th>\n",
              "      <td>2</td>\n",
              "      <td>8133.592821</td>\n",
              "      <td>2821.838135</td>\n",
              "      <td>2873.652588</td>\n",
              "      <td>1458.796509</td>\n",
              "      <td>426.581787</td>\n",
              "      <td>343.451843</td>\n",
              "      <td>209.272110</td>\n",
              "      <td>36.390000</td>\n",
              "    </tr>\n",
              "    <tr>\n",
              "      <th>nereomarino</th>\n",
              "      <td>0</td>\n",
              "      <td>5086.417666</td>\n",
              "      <td>2020.478394</td>\n",
              "      <td>2062.734131</td>\n",
              "      <td>899.350403</td>\n",
              "      <td>83.303360</td>\n",
              "      <td>20.551388</td>\n",
              "      <td>0.000000</td>\n",
              "      <td>33.570000</td>\n",
              "    </tr>\n",
              "    <tr>\n",
              "      <th>patrickkrueger</th>\n",
              "      <td>2</td>\n",
              "      <td>718.713690</td>\n",
              "      <td>431.481506</td>\n",
              "      <td>273.783447</td>\n",
              "      <td>13.448741</td>\n",
              "      <td>0.000000</td>\n",
              "      <td>0.000000</td>\n",
              "      <td>0.000000</td>\n",
              "      <td>34.247002</td>\n",
              "    </tr>\n",
              "    <tr>\n",
              "      <th>marvinsharpe</th>\n",
              "      <td>5</td>\n",
              "      <td>9572.792150</td>\n",
              "      <td>4374.458008</td>\n",
              "      <td>2901.281006</td>\n",
              "      <td>1594.261841</td>\n",
              "      <td>330.291931</td>\n",
              "      <td>249.323852</td>\n",
              "      <td>123.175400</td>\n",
              "      <td>37.723999</td>\n",
              "    </tr>\n",
              "    <tr>\n",
              "      <th>kianlong</th>\n",
              "      <td>3</td>\n",
              "      <td>8278.748661</td>\n",
              "      <td>3404.831299</td>\n",
              "      <td>2830.495605</td>\n",
              "      <td>1655.305176</td>\n",
              "      <td>237.453812</td>\n",
              "      <td>91.589828</td>\n",
              "      <td>59.072899</td>\n",
              "      <td>37.720000</td>\n",
              "    </tr>\n",
              "  </tbody>\n",
              "</table>\n",
              "</div>\n",
              "      <button class=\"colab-df-convert\" onclick=\"convertToInteractive('df-d565e28c-51e8-4966-bc83-88019b68a308')\"\n",
              "              title=\"Convert this dataframe to an interactive table.\"\n",
              "              style=\"display:none;\">\n",
              "        \n",
              "  <svg xmlns=\"http://www.w3.org/2000/svg\" height=\"24px\"viewBox=\"0 0 24 24\"\n",
              "       width=\"24px\">\n",
              "    <path d=\"M0 0h24v24H0V0z\" fill=\"none\"/>\n",
              "    <path d=\"M18.56 5.44l.94 2.06.94-2.06 2.06-.94-2.06-.94-.94-2.06-.94 2.06-2.06.94zm-11 1L8.5 8.5l.94-2.06 2.06-.94-2.06-.94L8.5 2.5l-.94 2.06-2.06.94zm10 10l.94 2.06.94-2.06 2.06-.94-2.06-.94-.94-2.06-.94 2.06-2.06.94z\"/><path d=\"M17.41 7.96l-1.37-1.37c-.4-.4-.92-.59-1.43-.59-.52 0-1.04.2-1.43.59L10.3 9.45l-7.72 7.72c-.78.78-.78 2.05 0 2.83L4 21.41c.39.39.9.59 1.41.59.51 0 1.02-.2 1.41-.59l7.78-7.78 2.81-2.81c.8-.78.8-2.07 0-2.86zM5.41 20L4 18.59l7.72-7.72 1.47 1.35L5.41 20z\"/>\n",
              "  </svg>\n",
              "      </button>\n",
              "      \n",
              "  <style>\n",
              "    .colab-df-container {\n",
              "      display:flex;\n",
              "      flex-wrap:wrap;\n",
              "      gap: 12px;\n",
              "    }\n",
              "\n",
              "    .colab-df-convert {\n",
              "      background-color: #E8F0FE;\n",
              "      border: none;\n",
              "      border-radius: 50%;\n",
              "      cursor: pointer;\n",
              "      display: none;\n",
              "      fill: #1967D2;\n",
              "      height: 32px;\n",
              "      padding: 0 0 0 0;\n",
              "      width: 32px;\n",
              "    }\n",
              "\n",
              "    .colab-df-convert:hover {\n",
              "      background-color: #E2EBFA;\n",
              "      box-shadow: 0px 1px 2px rgba(60, 64, 67, 0.3), 0px 1px 3px 1px rgba(60, 64, 67, 0.15);\n",
              "      fill: #174EA6;\n",
              "    }\n",
              "\n",
              "    [theme=dark] .colab-df-convert {\n",
              "      background-color: #3B4455;\n",
              "      fill: #D2E3FC;\n",
              "    }\n",
              "\n",
              "    [theme=dark] .colab-df-convert:hover {\n",
              "      background-color: #434B5C;\n",
              "      box-shadow: 0px 1px 3px 1px rgba(0, 0, 0, 0.15);\n",
              "      filter: drop-shadow(0px 1px 2px rgba(0, 0, 0, 0.3));\n",
              "      fill: #FFFFFF;\n",
              "    }\n",
              "  </style>\n",
              "\n",
              "      <script>\n",
              "        const buttonEl =\n",
              "          document.querySelector('#df-d565e28c-51e8-4966-bc83-88019b68a308 button.colab-df-convert');\n",
              "        buttonEl.style.display =\n",
              "          google.colab.kernel.accessAllowed ? 'block' : 'none';\n",
              "\n",
              "        async function convertToInteractive(key) {\n",
              "          const element = document.querySelector('#df-d565e28c-51e8-4966-bc83-88019b68a308');\n",
              "          const dataTable =\n",
              "            await google.colab.kernel.invokeFunction('convertToInteractive',\n",
              "                                                     [key], {});\n",
              "          if (!dataTable) return;\n",
              "\n",
              "          const docLinkHtml = 'Like what you see? Visit the ' +\n",
              "            '<a target=\"_blank\" href=https://colab.research.google.com/notebooks/data_table.ipynb>data table notebook</a>'\n",
              "            + ' to learn more about interactive tables.';\n",
              "          element.innerHTML = '';\n",
              "          dataTable['output_type'] = 'display_data';\n",
              "          await google.colab.output.renderOutput(dataTable, element);\n",
              "          const docLink = document.createElement('div');\n",
              "          docLink.innerHTML = docLinkHtml;\n",
              "          element.appendChild(docLink);\n",
              "        }\n",
              "      </script>\n",
              "    </div>\n",
              "  </div>\n",
              "  "
            ]
          },
          "metadata": {},
          "execution_count": 23
        }
      ]
    },
    {
      "cell_type": "code",
      "source": [
        "y.head()"
      ],
      "metadata": {
        "colab": {
          "base_uri": "https://localhost:8080/"
        },
        "id": "U3E_KuanCk7a",
        "outputId": "47392201-ec61-49f0-937b-17e0f8c80afc"
      },
      "execution_count": null,
      "outputs": [
        {
          "output_type": "execute_result",
          "data": {
            "text/plain": [
              "Username\n",
              "phillippfarber    31.161600\n",
              "nereomarino       23.587200\n",
              "patrickkrueger    15.706800\n",
              "marvinsharpe      31.323601\n",
              "kianlong          31.226398\n",
              "Name: Max Speed (km/h), dtype: float64"
            ]
          },
          "metadata": {},
          "execution_count": 24
        }
      ]
    },
    {
      "cell_type": "code",
      "source": [
        "!pip install mlxtend\n",
        "import sys\n",
        "import joblib\n",
        "sys.modules['sklearn.externals.joblib'] = joblib"
      ],
      "metadata": {
        "colab": {
          "base_uri": "https://localhost:8080/"
        },
        "id": "plH3iL5QDVMG",
        "outputId": "3c3ee260-ebaf-4b7f-c7b0-be5c2acfdf6d"
      },
      "execution_count": null,
      "outputs": [
        {
          "output_type": "stream",
          "name": "stdout",
          "text": [
            "Looking in indexes: https://pypi.org/simple, https://us-python.pkg.dev/colab-wheels/public/simple/\n",
            "Requirement already satisfied: mlxtend in /usr/local/lib/python3.10/dist-packages (0.22.0)\n",
            "Requirement already satisfied: matplotlib>=3.0.0 in /usr/local/lib/python3.10/dist-packages (from mlxtend) (3.7.1)\n",
            "Requirement already satisfied: scikit-learn>=1.0.2 in /usr/local/lib/python3.10/dist-packages (from mlxtend) (1.2.2)\n",
            "Requirement already satisfied: pandas>=0.24.2 in /usr/local/lib/python3.10/dist-packages (from mlxtend) (1.5.3)\n",
            "Requirement already satisfied: setuptools in /usr/local/lib/python3.10/dist-packages (from mlxtend) (67.7.2)\n",
            "Requirement already satisfied: numpy>=1.16.2 in /usr/local/lib/python3.10/dist-packages (from mlxtend) (1.22.4)\n",
            "Requirement already satisfied: joblib>=0.13.2 in /usr/local/lib/python3.10/dist-packages (from mlxtend) (1.2.0)\n",
            "Requirement already satisfied: scipy>=1.2.1 in /usr/local/lib/python3.10/dist-packages (from mlxtend) (1.10.1)\n",
            "Requirement already satisfied: cycler>=0.10 in /usr/local/lib/python3.10/dist-packages (from matplotlib>=3.0.0->mlxtend) (0.11.0)\n",
            "Requirement already satisfied: contourpy>=1.0.1 in /usr/local/lib/python3.10/dist-packages (from matplotlib>=3.0.0->mlxtend) (1.0.7)\n",
            "Requirement already satisfied: kiwisolver>=1.0.1 in /usr/local/lib/python3.10/dist-packages (from matplotlib>=3.0.0->mlxtend) (1.4.4)\n",
            "Requirement already satisfied: python-dateutil>=2.7 in /usr/local/lib/python3.10/dist-packages (from matplotlib>=3.0.0->mlxtend) (2.8.2)\n",
            "Requirement already satisfied: pyparsing>=2.3.1 in /usr/local/lib/python3.10/dist-packages (from matplotlib>=3.0.0->mlxtend) (3.0.9)\n",
            "Requirement already satisfied: pillow>=6.2.0 in /usr/local/lib/python3.10/dist-packages (from matplotlib>=3.0.0->mlxtend) (8.4.0)\n",
            "Requirement already satisfied: fonttools>=4.22.0 in /usr/local/lib/python3.10/dist-packages (from matplotlib>=3.0.0->mlxtend) (4.39.3)\n",
            "Requirement already satisfied: packaging>=20.0 in /usr/local/lib/python3.10/dist-packages (from matplotlib>=3.0.0->mlxtend) (23.1)\n",
            "Requirement already satisfied: pytz>=2020.1 in /usr/local/lib/python3.10/dist-packages (from pandas>=0.24.2->mlxtend) (2022.7.1)\n",
            "Requirement already satisfied: threadpoolctl>=2.0.0 in /usr/local/lib/python3.10/dist-packages (from scikit-learn>=1.0.2->mlxtend) (3.1.0)\n",
            "Requirement already satisfied: six>=1.5 in /usr/local/lib/python3.10/dist-packages (from python-dateutil>=2.7->matplotlib>=3.0.0->mlxtend) (1.16.0)\n"
          ]
        }
      ]
    },
    {
      "cell_type": "code",
      "source": [
        "#Librerias\n",
        "from mlxtend.feature_selection import SequentialFeatureSelector as SFS\n",
        "from sklearn.linear_model import LinearRegression\n",
        "# Sequential Forward Selection(sfs)\n",
        "sfs = SFS(LinearRegression(),\n",
        "          k_features=3,\n",
        "          forward=True,\n",
        "          scoring = 'r2',\n",
        "          cv=None)"
      ],
      "metadata": {
        "id": "tr1_j3iYCqsi"
      },
      "execution_count": null,
      "outputs": []
    },
    {
      "cell_type": "code",
      "source": [
        "#Lista final de features\n",
        "sfs.fit(x, y)"
      ],
      "metadata": {
        "colab": {
          "base_uri": "https://localhost:8080/",
          "height": 118
        },
        "id": "i_6nyC0IDz77",
        "outputId": "fa32cb37-c7c0-46da-a4a1-235f88fe689c"
      },
      "execution_count": null,
      "outputs": [
        {
          "output_type": "execute_result",
          "data": {
            "text/plain": [
              "SequentialFeatureSelector(cv=None, estimator=LinearRegression(),\n",
              "                          k_features=(3, 3), scoring='r2')"
            ],
            "text/html": [
              "<style>#sk-container-id-1 {color: black;background-color: white;}#sk-container-id-1 pre{padding: 0;}#sk-container-id-1 div.sk-toggleable {background-color: white;}#sk-container-id-1 label.sk-toggleable__label {cursor: pointer;display: block;width: 100%;margin-bottom: 0;padding: 0.3em;box-sizing: border-box;text-align: center;}#sk-container-id-1 label.sk-toggleable__label-arrow:before {content: \"▸\";float: left;margin-right: 0.25em;color: #696969;}#sk-container-id-1 label.sk-toggleable__label-arrow:hover:before {color: black;}#sk-container-id-1 div.sk-estimator:hover label.sk-toggleable__label-arrow:before {color: black;}#sk-container-id-1 div.sk-toggleable__content {max-height: 0;max-width: 0;overflow: hidden;text-align: left;background-color: #f0f8ff;}#sk-container-id-1 div.sk-toggleable__content pre {margin: 0.2em;color: black;border-radius: 0.25em;background-color: #f0f8ff;}#sk-container-id-1 input.sk-toggleable__control:checked~div.sk-toggleable__content {max-height: 200px;max-width: 100%;overflow: auto;}#sk-container-id-1 input.sk-toggleable__control:checked~label.sk-toggleable__label-arrow:before {content: \"▾\";}#sk-container-id-1 div.sk-estimator input.sk-toggleable__control:checked~label.sk-toggleable__label {background-color: #d4ebff;}#sk-container-id-1 div.sk-label input.sk-toggleable__control:checked~label.sk-toggleable__label {background-color: #d4ebff;}#sk-container-id-1 input.sk-hidden--visually {border: 0;clip: rect(1px 1px 1px 1px);clip: rect(1px, 1px, 1px, 1px);height: 1px;margin: -1px;overflow: hidden;padding: 0;position: absolute;width: 1px;}#sk-container-id-1 div.sk-estimator {font-family: monospace;background-color: #f0f8ff;border: 1px dotted black;border-radius: 0.25em;box-sizing: border-box;margin-bottom: 0.5em;}#sk-container-id-1 div.sk-estimator:hover {background-color: #d4ebff;}#sk-container-id-1 div.sk-parallel-item::after {content: \"\";width: 100%;border-bottom: 1px solid gray;flex-grow: 1;}#sk-container-id-1 div.sk-label:hover label.sk-toggleable__label {background-color: #d4ebff;}#sk-container-id-1 div.sk-serial::before {content: \"\";position: absolute;border-left: 1px solid gray;box-sizing: border-box;top: 0;bottom: 0;left: 50%;z-index: 0;}#sk-container-id-1 div.sk-serial {display: flex;flex-direction: column;align-items: center;background-color: white;padding-right: 0.2em;padding-left: 0.2em;position: relative;}#sk-container-id-1 div.sk-item {position: relative;z-index: 1;}#sk-container-id-1 div.sk-parallel {display: flex;align-items: stretch;justify-content: center;background-color: white;position: relative;}#sk-container-id-1 div.sk-item::before, #sk-container-id-1 div.sk-parallel-item::before {content: \"\";position: absolute;border-left: 1px solid gray;box-sizing: border-box;top: 0;bottom: 0;left: 50%;z-index: -1;}#sk-container-id-1 div.sk-parallel-item {display: flex;flex-direction: column;z-index: 1;position: relative;background-color: white;}#sk-container-id-1 div.sk-parallel-item:first-child::after {align-self: flex-end;width: 50%;}#sk-container-id-1 div.sk-parallel-item:last-child::after {align-self: flex-start;width: 50%;}#sk-container-id-1 div.sk-parallel-item:only-child::after {width: 0;}#sk-container-id-1 div.sk-dashed-wrapped {border: 1px dashed gray;margin: 0 0.4em 0.5em 0.4em;box-sizing: border-box;padding-bottom: 0.4em;background-color: white;}#sk-container-id-1 div.sk-label label {font-family: monospace;font-weight: bold;display: inline-block;line-height: 1.2em;}#sk-container-id-1 div.sk-label-container {text-align: center;}#sk-container-id-1 div.sk-container {/* jupyter's `normalize.less` sets `[hidden] { display: none; }` but bootstrap.min.css set `[hidden] { display: none !important; }` so we also need the `!important` here to be able to override the default hidden behavior on the sphinx rendered scikit-learn.org. See: https://github.com/scikit-learn/scikit-learn/issues/21755 */display: inline-block !important;position: relative;}#sk-container-id-1 div.sk-text-repr-fallback {display: none;}</style><div id=\"sk-container-id-1\" class=\"sk-top-container\"><div class=\"sk-text-repr-fallback\"><pre>SequentialFeatureSelector(cv=None, estimator=LinearRegression(),\n",
              "                          k_features=(3, 3), scoring=&#x27;r2&#x27;)</pre><b>In a Jupyter environment, please rerun this cell to show the HTML representation or trust the notebook. <br />On GitHub, the HTML representation is unable to render, please try loading this page with nbviewer.org.</b></div><div class=\"sk-container\" hidden><div class=\"sk-item sk-dashed-wrapped\"><div class=\"sk-label-container\"><div class=\"sk-label sk-toggleable\"><input class=\"sk-toggleable__control sk-hidden--visually\" id=\"sk-estimator-id-1\" type=\"checkbox\" ><label for=\"sk-estimator-id-1\" class=\"sk-toggleable__label sk-toggleable__label-arrow\">SequentialFeatureSelector</label><div class=\"sk-toggleable__content\"><pre>SequentialFeatureSelector(cv=None, estimator=LinearRegression(),\n",
              "                          k_features=(3, 3), scoring=&#x27;r2&#x27;)</pre></div></div></div><div class=\"sk-parallel\"><div class=\"sk-parallel-item\"><div class=\"sk-item\"><div class=\"sk-label-container\"><div class=\"sk-label sk-toggleable\"><input class=\"sk-toggleable__control sk-hidden--visually\" id=\"sk-estimator-id-2\" type=\"checkbox\" ><label for=\"sk-estimator-id-2\" class=\"sk-toggleable__label sk-toggleable__label-arrow\">estimator: LinearRegression</label><div class=\"sk-toggleable__content\"><pre>LinearRegression()</pre></div></div></div><div class=\"sk-serial\"><div class=\"sk-item\"><div class=\"sk-estimator sk-toggleable\"><input class=\"sk-toggleable__control sk-hidden--visually\" id=\"sk-estimator-id-3\" type=\"checkbox\" ><label for=\"sk-estimator-id-3\" class=\"sk-toggleable__label sk-toggleable__label-arrow\">LinearRegression</label><div class=\"sk-toggleable__content\"><pre>LinearRegression()</pre></div></div></div></div></div></div></div></div></div></div>"
            ]
          },
          "metadata": {},
          "execution_count": 29
        }
      ]
    },
    {
      "cell_type": "code",
      "source": [
        "#Variables que el algoritmo seleccionó\n",
        "\n",
        "sfs.k_feature_names_"
      ],
      "metadata": {
        "colab": {
          "base_uri": "https://localhost:8080/"
        },
        "id": "ZP9LMBEBC_8e",
        "outputId": "9f81ad45-5447-4e1f-954f-c18afb373cf1"
      },
      "execution_count": null,
      "outputs": [
        {
          "output_type": "execute_result",
          "data": {
            "text/plain": [
              "('Speed Zones (m) [6.0, 12.0]',\n",
              " 'Speed Zones (m) [18.0, 21.0]',\n",
              " 'Speed Zones (m) [24.0, 50.0]')"
            ]
          },
          "metadata": {},
          "execution_count": 30
        }
      ]
    },
    {
      "cell_type": "markdown",
      "source": [
        "#**Modelo de prediccion con regresion lineal**\n",
        "\n",
        "Modelo con todas las variables\n",
        "Primero crearemos el modelo de regresion lineal utilizando todas las variables"
      ],
      "metadata": {
        "id": "FIY0qw_HEO0y"
      }
    },
    {
      "cell_type": "code",
      "source": [
        "#Generamos el set de entrenamiento y el set de validacion\n",
        "from sklearn import datasets, linear_model\n",
        "from sklearn.metrics import mean_squared_error, r2_score, mean_absolute_error\n",
        "import math\n",
        "\n",
        "df_x = x\n",
        "df_y = y"
      ],
      "metadata": {
        "id": "QyxPeUVsD8JR"
      },
      "execution_count": null,
      "outputs": []
    },
    {
      "cell_type": "code",
      "source": [
        "from sklearn.model_selection import train_test_split\n",
        "\n",
        "#Generamos el set de entrenamiento y el set de validacion\n",
        "X_train,X_test,y_train,y_test = train_test_split(df_x,df_y,test_size=0.3,random_state=42)\n",
        "\n",
        "\n",
        "from sklearn.linear_model import LinearRegression\n",
        "# crear el modelo\n",
        "lr = LinearRegression()\n",
        "# Ajustar el modelo con X_train y y_train\n",
        "lr.fit(X_train,y_train)\n",
        "# Predecir con X_test\n",
        "y_pred = lr.predict(X_test)"
      ],
      "metadata": {
        "id": "2aAoPBbjDGX0"
      },
      "execution_count": null,
      "outputs": []
    },
    {
      "cell_type": "code",
      "source": [
        "#probamos el rendimiento del modelo\n",
        "r2 = r2_score(y_test,y_pred)\n",
        "mse = mean_squared_error(y_test,y_pred)\n",
        "rmse = math.sqrt(mse)\n",
        "mae = mean_absolute_error(y_test,y_pred)\n",
        "print(\"R2:\",r2)\n",
        "print(\"MSE:\", mse)\n",
        "print(\"RMSE:\", rmse)\n",
        "print(\"MAE:\", mae)"
      ],
      "metadata": {
        "colab": {
          "base_uri": "https://localhost:8080/"
        },
        "id": "z61SsZIYCxij",
        "outputId": "594779c8-13f9-4545-b577-f81a0c63edb4"
      },
      "execution_count": null,
      "outputs": [
        {
          "output_type": "stream",
          "name": "stdout",
          "text": [
            "R2: 0.3711645577339219\n",
            "MSE: 33.66678366254482\n",
            "RMSE: 5.802308477024022\n",
            "MAE: 4.459799673962279\n"
          ]
        }
      ]
    },
    {
      "cell_type": "code",
      "source": [
        "#graficamos valor esperado vs valor de prediccion\n",
        "plt.scatter(y_test, y_pred, color = 'blue')\n",
        "plt.xlabel(\"Valores esperados\")\n",
        "plt.ylabel(\"Valores predichos\")\n",
        "plt.title(\"Valor esperado vs Valor predicho\")  "
      ],
      "metadata": {
        "colab": {
          "base_uri": "https://localhost:8080/",
          "height": 484
        },
        "id": "WItXN1x1FuN9",
        "outputId": "2016bb0d-b97f-408c-f55c-a0bfc904cd86"
      },
      "execution_count": null,
      "outputs": [
        {
          "output_type": "execute_result",
          "data": {
            "text/plain": [
              "Text(0.5, 1.0, 'Valor esperado vs Valor predicho')"
            ]
          },
          "metadata": {},
          "execution_count": 34
        },
        {
          "output_type": "display_data",
          "data": {
            "text/plain": [
              "<Figure size 640x480 with 1 Axes>"
            ],
            "image/png": "[encoded data removed]"
          },
          "metadata": {}
        }
      ]
    },
    {
      "cell_type": "markdown",
      "source": [
        "##Modelo con 3 variables\n",
        "Ahora crearemos el modelo con las variables escogidas en Feature Selection"
      ],
      "metadata": {
        "id": "Bx9QKxXTGnqY"
      }
    },
    {
      "cell_type": "code",
      "source": [
        "df_featsel_x= sfs.transform(x)\n",
        "df_featsel_x.shape"
      ],
      "metadata": {
        "colab": {
          "base_uri": "https://localhost:8080/"
        },
        "id": "0mt3t7I-GsMW",
        "outputId": "75c438a0-c5c1-4acf-f50f-97787f9311f7"
      },
      "execution_count": null,
      "outputs": [
        {
          "output_type": "execute_result",
          "data": {
            "text/plain": [
              "(525, 3)"
            ]
          },
          "metadata": {},
          "execution_count": 35
        }
      ]
    },
    {
      "cell_type": "code",
      "source": [
        "#Generamos el set de entrenamiento y el set de validacion\n",
        "x_fs_train,x_fs_test,y_fs_train,y_fs_test = train_test_split(df_featsel_x, df_y, test_size=0.3,random_state=42)\n",
        "# crear el modelo\n",
        "lr_fs = LinearRegression()\n",
        "# Ajustar el modelo con X_train y y_train\n",
        "lr_fs.fit(x_fs_train,y_fs_train)\n",
        "# Predecir con X_test\n",
        "y_fs_pred = lr_fs.predict(x_fs_test)"
      ],
      "metadata": {
        "id": "OcvA6BWdHNBV"
      },
      "execution_count": null,
      "outputs": []
    },
    {
      "cell_type": "code",
      "source": [
        "#probamos el rendimiento del modelo\n",
        "r2_fs = r2_score(y_fs_test,y_fs_pred)\n",
        "print(r2_fs)\n",
        "mse = mean_squared_error(y_fs_test,y_fs_pred)\n",
        "rmse = math.sqrt(mse)\n",
        "mae = mean_absolute_error(y_fs_test,y_fs_pred)\n",
        "print(\"R2:\",r2)\n",
        "print(\"MSE:\", mse)\n",
        "print(\"RMSE:\", rmse)\n",
        "print(\"MAE:\", mae)"
      ],
      "metadata": {
        "colab": {
          "base_uri": "https://localhost:8080/"
        },
        "id": "tEHibhQvHikb",
        "outputId": "1fb49e30-72ca-4aec-f41f-534dcd003111"
      },
      "execution_count": null,
      "outputs": [
        {
          "output_type": "stream",
          "name": "stdout",
          "text": [
            "0.41752774335471243\n",
            "R2: 0.3711645577339219\n",
            "MSE: 31.184577292979057\n",
            "RMSE: 5.5843152931204605\n",
            "MAE: 4.311229659193524\n"
          ]
        }
      ]
    },
    {
      "cell_type": "code",
      "source": [
        "#graficamos valor esperado vs valor de prediccion\n",
        "plt.scatter(y_fs_test, y_fs_pred, color = 'orange')\n",
        "plt.xlabel(\"Valores esperados\")\n",
        "plt.ylabel(\"Valores predichos\")\n",
        "plt.title(\"Valor esperado vs Valor predicho\")  "
      ],
      "metadata": {
        "colab": {
          "base_uri": "https://localhost:8080/",
          "height": 484
        },
        "id": "HdgsyACnHrz0",
        "outputId": "f50771c4-191f-4974-f243-d9e304ec26c2"
      },
      "execution_count": null,
      "outputs": [
        {
          "output_type": "execute_result",
          "data": {
            "text/plain": [
              "Text(0.5, 1.0, 'Valor esperado vs Valor predicho')"
            ]
          },
          "metadata": {},
          "execution_count": 38
        },
        {
          "output_type": "display_data",
          "data": {
            "text/plain": [
              "<Figure size 640x480 with 1 Axes>"
            ],
            "image/png": "[encoded data removed]"
          },
          "metadata": {}
        }
      ]
    },
    {
      "cell_type": "markdown",
      "source": [
        "# **Evaluando Modelos (Bias-Variance Tradeoff) Actividad Complementaria**\n",
        "\n",
        "A continuacion vamos a emplear una libreria que nos permitira calcular el bias-variance trade off del modelo, asi podremos tomar decisiones que reduzcan el posible overfitting o underfitting."
      ],
      "metadata": {
        "id": "Q-WEn-KWKOHn"
      }
    },
    {
      "cell_type": "code",
      "source": [
        "#importamos la libreria\n",
        "#Ejecutar el siguiente código si no reconoce el mxltend\n",
        "\n",
        "#%pip install mlxtend --upgrade\n",
        "from mlxtend.evaluate import bias_variance_decomp"
      ],
      "metadata": {
        "id": "FIijXAs2H5wv"
      },
      "execution_count": null,
      "outputs": []
    },
    {
      "cell_type": "code",
      "source": [
        "#el metodo no admite dataframes todavia, es necesario convertir los dataframes a arrays\n",
        "X_train = X_train.values\n",
        "y_train = y_train.values\n",
        "X_test = X_test.values\n",
        "y_test = y_test.values"
      ],
      "metadata": {
        "id": "8sU_QexCIMf2"
      },
      "execution_count": null,
      "outputs": []
    },
    {
      "cell_type": "code",
      "source": [
        "#calculamos la varianza, el bias y el error del modelo\n",
        "mse, bias, var = bias_variance_decomp(lr, X_train, y_train, X_test, y_test, loss='mse', num_rounds=200, random_seed=1)"
      ],
      "metadata": {
        "id": "FsYxlYeiIRqY"
      },
      "execution_count": null,
      "outputs": []
    },
    {
      "cell_type": "code",
      "source": [
        "#Imprimimos los resultados\n",
        "print('MSE: %.3f' % mse)\n",
        "print('Bias: %.3f' % bias)\n",
        "print('Variance: %.3f' % var)"
      ],
      "metadata": {
        "colab": {
          "base_uri": "https://localhost:8080/"
        },
        "id": "b1Byv-Q5IVZo",
        "outputId": "56c3d4e0-5250-4350-d4ea-622f2f00acc4"
      },
      "execution_count": null,
      "outputs": [
        {
          "output_type": "stream",
          "name": "stdout",
          "text": [
            "MSE: 34.606\n",
            "Bias: 33.775\n",
            "Variance: 0.831\n"
          ]
        }
      ]
    },
    {
      "cell_type": "markdown",
      "source": [
        "Ahora calcularemos para el modelo con 3 variables del feature selection"
      ],
      "metadata": {
        "id": "mhiqXutOIgYI"
      }
    },
    {
      "cell_type": "code",
      "source": [
        "y_fs_train = y_fs_train.values\n",
        "y_fs_test = y_fs_test.values"
      ],
      "metadata": {
        "id": "sxhsyD--IiSr"
      },
      "execution_count": null,
      "outputs": []
    },
    {
      "cell_type": "code",
      "source": [
        "mse, bias, var = bias_variance_decomp(lr_fs, x_fs_train, y_fs_train, x_fs_test, y_fs_test, loss='mse', num_rounds=200, random_seed=1)\n"
      ],
      "metadata": {
        "id": "7xN2xTfWIom-"
      },
      "execution_count": null,
      "outputs": []
    },
    {
      "cell_type": "code",
      "source": [
        "#Imprimimos los resultados\n",
        "print('MSE: %.3f' % mse)\n",
        "print('Bias: %.3f' % bias)\n",
        "print('Variance: %.3f' % var)"
      ],
      "metadata": {
        "colab": {
          "base_uri": "https://localhost:8080/"
        },
        "id": "KVfZkyByIsNQ",
        "outputId": "65b77e86-2161-47b5-c80b-8cc559f013fc"
      },
      "execution_count": null,
      "outputs": [
        {
          "output_type": "stream",
          "name": "stdout",
          "text": [
            "MSE: 31.536\n",
            "Bias: 31.185\n",
            "Variance: 0.350\n"
          ]
        }
      ]
    },
    {
      "cell_type": "markdown",
      "source": [
        "#**Conclusiones**"
      ],
      "metadata": {
        "id": "j6p5Bp7tKrZB"
      }
    },
    {
      "cell_type": "code",
      "source": [
        "print(\"Rendimiento del modelo con Regresión Linear:\",round(r2_fs*100,3),'%')"
      ],
      "metadata": {
        "colab": {
          "base_uri": "https://localhost:8080/"
        },
        "id": "--IJKtGLI1kn",
        "outputId": "68a47123-650d-41f9-8b9b-dcb0ca75e642"
      },
      "execution_count": null,
      "outputs": [
        {
          "output_type": "stream",
          "name": "stdout",
          "text": [
            "Rendimiento del modelo con Regresión Linear: 41.753 %\n"
          ]
        }
      ]
    },
    {
      "cell_type": "markdown",
      "source": [
        "Podemos observar que el rendimiento del modelo con las variables escogidas en feature selection es de 41.75%.\n",
        "\n",
        "Hay un riesgo de underfitting pues el rendimiento de los modelos es demasiado bajo."
      ],
      "metadata": {
        "id": "a5x_Ad6WKvjV"
      }
    }
  ]
}